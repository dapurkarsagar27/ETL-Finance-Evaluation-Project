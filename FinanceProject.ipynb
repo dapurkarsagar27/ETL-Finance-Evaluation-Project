{
 "cells": [
  {
   "cell_type": "code",
   "execution_count": 17,
   "id": "ee744b46",
   "metadata": {},
   "outputs": [],
   "source": [
    "from pyspark.sql import SparkSession\n",
    "from pyspark.sql.functions import *"
   ]
  },
  {
   "cell_type": "code",
   "execution_count": 2,
   "id": "9ad8aaa0",
   "metadata": {},
   "outputs": [
    {
     "name": "stderr",
     "output_type": "stream",
     "text": [
      "24/03/10 20:31:11 WARN Utils: Your hostname, Sagars-MacBook-Air.local resolves to a loopback address: 127.0.0.1; using 192.168.107.158 instead (on interface en0)\n",
      "24/03/10 20:31:11 WARN Utils: Set SPARK_LOCAL_IP if you need to bind to another address\n",
      "Setting default log level to \"WARN\".\n",
      "To adjust logging level use sc.setLogLevel(newLevel). For SparkR, use setLogLevel(newLevel).\n",
      "24/03/10 20:31:11 WARN NativeCodeLoader: Unable to load native-hadoop library for your platform... using builtin-java classes where applicable\n"
     ]
    }
   ],
   "source": [
    "spark = SparkSession.builder.appName('Finance Project').getOrCreate()"
   ]
  },
  {
   "cell_type": "markdown",
   "id": "d17a6ae0",
   "metadata": {},
   "source": [
    "# Loan"
   ]
  },
  {
   "cell_type": "code",
   "execution_count": 10,
   "id": "51039af4",
   "metadata": {},
   "outputs": [],
   "source": [
    "loan = spark.read.option('header', True).option('inferSchema',True).csv('/Users/sagardapurkar/Desktop/Data Engineering/PySpark/PySpark Final Practise/BankTransactionDataset/Loan.csv')"
   ]
  },
  {
   "cell_type": "code",
   "execution_count": 11,
   "id": "7c82bd73",
   "metadata": {},
   "outputs": [
    {
     "name": "stdout",
     "output_type": "stream",
     "text": [
      "+-----------+---+------+-------------------+--------------+-----------+------+-----------+-------------+------------------+-----------+-------+------------+----------------+------------------+\n",
      "|Customer_ID|Age|Gender|         Occupation|Marital Status|Family Size|Income|Expenditure|Use Frequency|     Loan Category|Loan Amount|Overdue| Debt Record| Returned Cheque| Dishonour of Bill|\n",
      "+-----------+---+------+-------------------+--------------+-----------+------+-----------+-------------+------------------+-----------+-------+------------+----------------+------------------+\n",
      "|    IB14001| 30|  MALE|       BANK MANAGER|        SINGLE|          4| 50000|      22199|            6|           HOUSING| 10,00,000 |      5|      42,898|               6|                 9|\n",
      "|    IB14008| 44|  MALE|          PROFESSOR|       MARRIED|          6| 51000|      19999|            4|          SHOPPING|     50,000|      3|      33,999|               1|                 5|\n",
      "|    IB14012| 30|FEMALE|            DENTIST|        SINGLE|          3| 58450|      27675|            5|        TRAVELLING|     75,000|      6|      20,876|               3|                 1|\n",
      "|    IB14018| 29|  MALE|            TEACHER|       MARRIED|          5| 45767|      12787|            3|         GOLD LOAN|  6,00,000 |      7|      11,000|               0|                 4|\n",
      "|    IB14022| 34|  MALE|             POLICE|        SINGLE|          4| 43521|      11999|            3|        AUTOMOBILE|  2,00,000 |      2|      43,898|               1|                 2|\n",
      "|    IB14024| 55|FEMALE|              NURSE|       MARRIED|          6| 34999|      19888|            4|        AUTOMOBILE|     47,787|      1|      50,000|               0|                 3|\n",
      "|    IB14025| 39|FEMALE|            TEACHER|       MARRIED|          6| 46619|      18675|            4|           HOUSING| 12,09,867 |      8|      29,999|               6|                 8|\n",
      "|    IB14027| 51|  MALE|     SYSTEM MANAGER|       MARRIED|          3| 49999|      19111|            5|       RESTAURANTS|     60,676|      8|      13,000|               2|                 5|\n",
      "|    IB14029| 24|FEMALE|            TEACHER|        SINGLE|          3| 45008|      17454|            4|        AUTOMOBILE|  3,99,435 |      9|      51,987|               4|                 7|\n",
      "|    IB14031| 37|FEMALE|  SOFTWARE ENGINEER|       MARRIED|          5| 55999|      23999|            5|        AUTOMOBILE|     60,999|      2|           0|               5|                 3|\n",
      "|    IB14032| 24|  MALE|       DATA ANALYST|        SINGLE|          4| 60111|      28999|            6|        AUTOMOBILE|     35,232|      5|      33,333|               1|                 2|\n",
      "|    IB14034| 32|  MALE|   PRODUCT ENGINEER|       MARRIED|          6|  null|      29000|            7|COMPUTER SOFTWARES|     80,660|      6|       4,500|               5|                 4|\n",
      "|    IB14037| 54|FEMALE|            TEACHER|       MARRIED|          5| 48099|      19999|            4|       RESTAURANTS|     30,999|      1|      12,000|               7|                 5|\n",
      "|    IB14039| 45|  MALE|    ACCOUNT MANAGER|       MARRIED|          7| 45777|      18452|            4|         GOLD LOAN|  9,87,611 |      7|      39,999|               8|                 1|\n",
      "|    IB14041| 59|FEMALE|ASSISTANT PROFESSOR|       MARRIED|          4| 50999|      22999|            5|  EDUCATIONAL LOAN|  5,99,934 |      3|       9,000|               9|                 9|\n",
      "|    IB14042| 25|FEMALE|             DOCTOR|        SINGLE|          4| 60111|      27111|            5|        TRAVELLING| 12,90,929 |      4|      18,000|               1|                 0|\n",
      "|    IB14045| 31|  MALE|       STORE KEEPER|        SINGLE|          5| 40999|      11999|            3|       BOOK STORES|  1,67,654 |      1|       4,500|               0|                 1|\n",
      "|    IB14049| 49|  MALE|       BANK MANAGER|       MARRIED|          4| 45999|      14500|            4|        TRAVELLING|     79,999|      4|       6,700|               7|                 3|\n",
      "|    IB14050| 56|  MALE|     CIVIL ENGINEER|       MARRIED|          4|  null|      13999|            3|           HOUSING| 10,65,577 |      6|      19,999|               4|                 2|\n",
      "|    IB14054| 58|FEMALE|             DOCTOR|       MARRIED|          5| 60000|      25000|            5|           HOUSING|  9,00,000 |      5|      21,000|               9|                 0|\n",
      "+-----------+---+------+-------------------+--------------+-----------+------+-----------+-------------+------------------+-----------+-------+------------+----------------+------------------+\n",
      "only showing top 20 rows\n",
      "\n"
     ]
    },
    {
     "data": {
      "text/plain": [
       "None"
      ]
     },
     "metadata": {},
     "output_type": "display_data"
    }
   ],
   "source": [
    "display(loan.show())"
   ]
  },
  {
   "cell_type": "code",
   "execution_count": 12,
   "id": "daba071d",
   "metadata": {},
   "outputs": [
    {
     "name": "stdout",
     "output_type": "stream",
     "text": [
      "root\n",
      " |-- Customer_ID: string (nullable = true)\n",
      " |-- Age: integer (nullable = true)\n",
      " |-- Gender: string (nullable = true)\n",
      " |-- Occupation: string (nullable = true)\n",
      " |-- Marital Status: string (nullable = true)\n",
      " |-- Family Size: integer (nullable = true)\n",
      " |-- Income: integer (nullable = true)\n",
      " |-- Expenditure: integer (nullable = true)\n",
      " |-- Use Frequency: integer (nullable = true)\n",
      " |-- Loan Category: string (nullable = true)\n",
      " |-- Loan Amount: string (nullable = true)\n",
      " |-- Overdue: integer (nullable = true)\n",
      " |--  Debt Record: string (nullable = true)\n",
      " |--  Returned Cheque: integer (nullable = true)\n",
      " |--  Dishonour of Bill: integer (nullable = true)\n",
      "\n"
     ]
    }
   ],
   "source": [
    "loan.printSchema()"
   ]
  },
  {
   "cell_type": "code",
   "execution_count": 19,
   "id": "fa596307",
   "metadata": {},
   "outputs": [
    {
     "name": "stdout",
     "output_type": "stream",
     "text": [
      "+-----------------------------------------------------------+-------------------------------------------+-------------------------------------------------+---------------------------------------------------------+-----------------------------------------------------------------+-----------------------------------------------------------+-------------------------------------------------+-----------------------------------------------------------+---------------------------------------------------------------+---------------------------------------------------------------+-----------------------------------------------------------+---------------------------------------------------+-------------------------------------------------------------+---------------------------------------------------------------------+-------------------------------------------------------------------------+\n",
      "|count(CASE WHEN (Customer_ID IS NULL) THEN Customer_ID END)|count(CASE WHEN (Age IS NULL) THEN Age END)|count(CASE WHEN (Gender IS NULL) THEN Gender END)|count(CASE WHEN (Occupation IS NULL) THEN Occupation END)|count(CASE WHEN (Marital Status IS NULL) THEN Marital Status END)|count(CASE WHEN (Family Size IS NULL) THEN Family Size END)|count(CASE WHEN (Income IS NULL) THEN Income END)|count(CASE WHEN (Expenditure IS NULL) THEN Expenditure END)|count(CASE WHEN (Use Frequency IS NULL) THEN Use Frequency END)|count(CASE WHEN (Loan Category IS NULL) THEN Loan Category END)|count(CASE WHEN (Loan Amount IS NULL) THEN Loan Amount END)|count(CASE WHEN (Overdue IS NULL) THEN Overdue END)|count(CASE WHEN ( Debt Record IS NULL) THEN  Debt Record END)|count(CASE WHEN ( Returned Cheque IS NULL) THEN  Returned Cheque END)|count(CASE WHEN ( Dishonour of Bill IS NULL) THEN  Dishonour of Bill END)|\n",
      "+-----------------------------------------------------------+-------------------------------------------+-------------------------------------------------+---------------------------------------------------------+-----------------------------------------------------------------+-----------------------------------------------------------+-------------------------------------------------+-----------------------------------------------------------+---------------------------------------------------------------+---------------------------------------------------------------+-----------------------------------------------------------+---------------------------------------------------+-------------------------------------------------------------+---------------------------------------------------------------------+-------------------------------------------------------------------------+\n",
      "|                                                          0|                                          0|                                                0|                                                        0|                                                                0|                                                          0|                                               32|                                                         19|                                                              0|                                                              0|                                                          0|                                                  0|                                                            0|                                                                    0|                                                                        0|\n",
      "+-----------------------------------------------------------+-------------------------------------------+-------------------------------------------------+---------------------------------------------------------+-----------------------------------------------------------------+-----------------------------------------------------------+-------------------------------------------------+-----------------------------------------------------------+---------------------------------------------------------------+---------------------------------------------------------------+-----------------------------------------------------------+---------------------------------------------------+-------------------------------------------------------------+---------------------------------------------------------------------+-------------------------------------------------------------------------+\n",
      "\n"
     ]
    }
   ],
   "source": [
    "loan.select([count(when(col(i).isNull(),i)) for i in loan.columns]).show()"
   ]
  },
  {
   "cell_type": "code",
   "execution_count": 14,
   "id": "aa1df84d",
   "metadata": {},
   "outputs": [
    {
     "data": {
      "text/plain": [
       "['Customer_ID',\n",
       " 'Age',\n",
       " 'Gender',\n",
       " 'Occupation',\n",
       " 'Marital Status',\n",
       " 'Family Size',\n",
       " 'Income',\n",
       " 'Expenditure',\n",
       " 'Use Frequency',\n",
       " 'Loan Category',\n",
       " 'Loan Amount',\n",
       " 'Overdue',\n",
       " ' Debt Record',\n",
       " ' Returned Cheque',\n",
       " ' Dishonour of Bill']"
      ]
     },
     "execution_count": 14,
     "metadata": {},
     "output_type": "execute_result"
    }
   ],
   "source": [
    "loan.columns"
   ]
  },
  {
   "cell_type": "code",
   "execution_count": 43,
   "id": "03cc5fe2",
   "metadata": {},
   "outputs": [
    {
     "name": "stdout",
     "output_type": "stream",
     "text": [
      "+-----------+---+------+-----------------+--------------+-----------+------+-----------+-------------+------------------+-----------+-------+------------+----------------+------------------+\n",
      "|Customer_ID|Age|Gender|       Occupation|Marital Status|Family Size|Income|Expenditure|Use Frequency|     Loan Category|Loan Amount|Overdue| Debt Record| Returned Cheque| Dishonour of Bill|\n",
      "+-----------+---+------+-----------------+--------------+-----------+------+-----------+-------------+------------------+-----------+-------+------------+----------------+------------------+\n",
      "|    IB14034| 32|  MALE| PRODUCT ENGINEER|       MARRIED|          6|  null|      29000|            7|COMPUTER SOFTWARES|     80,660|      6|       4,500|               5|                 4|\n",
      "|    IB14050| 56|  MALE|   CIVIL ENGINEER|       MARRIED|          4|  null|      13999|            3|           HOUSING| 10,65,577 |      6|      19,999|               4|                 2|\n",
      "|    IB14101| 33|FEMALE| PRODUCT ENGINEER|       MARRIED|          5|  null|      45812|            5|        AUTOMOBILE|  8,52,416 |      4|      17,524|               6|                 3|\n",
      "|    IB14117| 39|FEMALE|   SYSTEM OFFICER|       MARRIED|          6|  null|      32541|            5|  EDUCATIONAL LOAN|  1,02,256 |      3|      14,256|               4|                 4|\n",
      "|    IB14173| 33|FEMALE| PRODUCT ENGINEER|       MARRIED|          5|  null|      45812|            5|          SHOPPING|  8,52,416 |      4|      17,524|               6|                 3|\n",
      "|    IB14195| 32|  MALE| PRODUCT ENGINEER|       MARRIED|          6|  null|      29000|            7|          SHOPPING|     80,660|      6|       4,500|               5|                 4|\n",
      "|    IB14225| 56|  MALE|   CIVIL ENGINEER|       MARRIED|          4|  null|      13999|            3|           HOUSING| 10,65,577 |      6|      19,999|               4|                 2|\n",
      "|    IB14233| 32|  MALE| PRODUCT ENGINEER|       MARRIED|          6|  null|      29000|            7|        AUTOMOBILE|     80,660|      6|       4,500|               5|                 4|\n",
      "|    IB14244| 32|  MALE| PRODUCT ENGINEER|       MARRIED|          6|  null|      29000|            7|COMPUTER SOFTWARES|     80,660|      6|       4,500|               5|                 4|\n",
      "|    IB14263| 32|  MALE| PRODUCT ENGINEER|       MARRIED|          6|  null|      29000|            7|COMPUTER SOFTWARES|     80,660|      6|       4,500|               5|                 4|\n",
      "|    IB14269| 32|  MALE|SOFTWARE ENGINEER|       MARRIED|          6|  null|      29000|            7|COMPUTER SOFTWARES|     80,660|      6|       4,500|               5|                 4|\n",
      "|    IB14280| 39|FEMALE|   SYSTEM OFFICER|       MARRIED|          6|  null|      32541|            5|  EDUCATIONAL LOAN|  1,02,256 |      3|      14,256|               4|                 4|\n",
      "|    IB14291| 32|  MALE| PRODUCT ENGINEER|       MARRIED|          6|  null|      29000|            7|          SHOPPING|     80,660|      6|       4,500|               5|                 4|\n",
      "|    IB14303| 56|  MALE|   CIVIL ENGINEER|       MARRIED|          4|  null|      13999|            3|           HOUSING| 10,65,577 |      6|      19,999|               4|                 2|\n",
      "|    IB14331| 29|  MALE|     BANK MANAGER|       MARRIED|          5|  null|      19326|            6|           DINNING|    188,617|      4|       38410|               4|                 1|\n",
      "|    IB14344| 43|  MALE|  AIRPORT OFFICER|       MARRIED|          7|  null|      28032|            8|           HOUSING|  1,691,451|      7|       64718|               0|                 4|\n",
      "|    IB14361| 37|FEMALE| PRODUCT ENGINEER|        SINGLE|          6|  null|      28140|            5|        AUTOMOBILE|    819,281|      8|       27586|               6|                 8|\n",
      "|    IB14403| 28|FEMALE|          TEACHER|       MARRIED|          3|  null|      19339|            8|         GOLD LOAN|  1,585,799|      7|       82089|               2|                 3|\n",
      "|    IB14420| 43|  MALE|SOFTWARE ENGINEER|       MARRIED|          2|  null|      23080|            7|COMPUTER SOFTWARES|    559,276|      4|       66963|               1|                 8|\n",
      "|    IB14446| 45|  MALE|          TEACHER|       MARRIED|          5|  null|      20185|            5|         GOLD LOAN|  1,218,291|      7|       71089|               6|                 0|\n",
      "+-----------+---+------+-----------------+--------------+-----------+------+-----------+-------------+------------------+-----------+-------+------------+----------------+------------------+\n",
      "only showing top 20 rows\n",
      "\n"
     ]
    }
   ],
   "source": [
    "loan.where(col('Income').isNull()).show()"
   ]
  },
  {
   "cell_type": "code",
   "execution_count": 44,
   "id": "8334d3c8",
   "metadata": {},
   "outputs": [
    {
     "name": "stdout",
     "output_type": "stream",
     "text": [
      "+-----------------+\n",
      "|      avg(Income)|\n",
      "+-----------------+\n",
      "|68339.49145299145|\n",
      "+-----------------+\n",
      "\n"
     ]
    }
   ],
   "source": [
    "loan.select(avg('Income')).show()"
   ]
  },
  {
   "cell_type": "code",
   "execution_count": 47,
   "id": "d22173f9",
   "metadata": {},
   "outputs": [],
   "source": [
    "loan=loan.fillna({'Income':68339})"
   ]
  },
  {
   "cell_type": "code",
   "execution_count": 48,
   "id": "ecfb6024",
   "metadata": {},
   "outputs": [
    {
     "name": "stdout",
     "output_type": "stream",
     "text": [
      "+-----------+---+------+----------+--------------+-----------+------+-----------+-------------+-------------+-----------+-------+------------+----------------+------------------+\n",
      "|Customer_ID|Age|Gender|Occupation|Marital Status|Family Size|Income|Expenditure|Use Frequency|Loan Category|Loan Amount|Overdue| Debt Record| Returned Cheque| Dishonour of Bill|\n",
      "+-----------+---+------+----------+--------------+-----------+------+-----------+-------------+-------------+-----------+-------+------------+----------------+------------------+\n",
      "+-----------+---+------+----------+--------------+-----------+------+-----------+-------------+-------------+-----------+-------+------------+----------------+------------------+\n",
      "\n"
     ]
    }
   ],
   "source": [
    "loan.where(col('Income').isNull()).show()"
   ]
  },
  {
   "cell_type": "code",
   "execution_count": 24,
   "id": "b2900d53",
   "metadata": {},
   "outputs": [
    {
     "name": "stdout",
     "output_type": "stream",
     "text": [
      "+-----------+---+------+-----------------+--------------+-----------+------+-----------+-------------+------------------+-----------+-------+------------+----------------+------------------+\n",
      "|Customer_ID|Age|Gender|       Occupation|Marital Status|Family Size|Income|Expenditure|Use Frequency|     Loan Category|Loan Amount|Overdue| Debt Record| Returned Cheque| Dishonour of Bill|\n",
      "+-----------+---+------+-----------------+--------------+-----------+------+-----------+-------------+------------------+-----------+-------+------------+----------------+------------------+\n",
      "|    IB14086| 51|FEMALE|       TECHNICIAN|       MARRIED|          5| 30000|       null|            5|       RESTAURANTS|  1,25,463 |      7|      52,634|               4|                10|\n",
      "|    IB14111| 57|FEMALE|CORPORATE OFFICER|       MARRIED|          3| 52143|       null|            4|COMPUTER SOFTWARES| 75,41,236 |      4|      11,111|               3|                 2|\n",
      "|    IB14126| 57|  MALE|  FIRE DEPARTMENT|       MARRIED|          5| 54123|       null|            7|       RESTAURANTS|  41,23,65 |      6|      18,524|               2|                 1|\n",
      "|    IB14143| 34|FEMALE|          TEACHER|       MARRIED|          4| 45389|       null|            5|   HOME APPLIANCES|  3,50,050 |      4|      24,000|               4|                 3|\n",
      "|    IBI4153| 58|  MALE|  SYSTEM ENGINEER|       MARRIED|          6| 76800|       null|            5|        TRAVELLING| 16,59,080 |      6|      29,000|               5|                 3|\n",
      "|    IB14167| 57|FEMALE|CORPORATE OFFICER|       MARRIED|          3| 52143|       null|            4|        AUTOMOBILE| 75,41,236 |      4|      11,111|               3|                 2|\n",
      "|    IB14306| 51|FEMALE|       TECHNICIAN|       MARRIED|          5| 30000|       null|            5|        AUTOMOBILE|  1,25,463 |      7|      52,634|               4|                10|\n",
      "|    IB14337| 51|FEMALE|          DENTIST|       MARRIED|          7| 58465|       null|            8|        AUTOMOBILE|    569,189|      5|       27059|               4|                 9|\n",
      "|    IB14352| 32|FEMALE|      ELECTRICIAN|       MARRIED|          5| 70449|       null|            8|         GOLD LOAN|  1,092,176|      7|       64685|               0|                 6|\n",
      "|    IB14369| 37|FEMALE|           DOCTOR|       MARRIED|          5| 57453|       null|            6|        TRAVELLING|    462,585|      1|       72488|               9|                 8|\n",
      "|    IB14380| 41|FEMALE|            NURSE|       MARRIED|          5| 36784|       null|            4|           HOUSING|  1,232,534|      9|       60243|               3|                 1|\n",
      "|    IB14395| 36|FEMALE|          TEACHER|        SINGLE|          7| 43518|       null|            8|        TRAVELLING|    681,886|      9|       56090|               0|                 0|\n",
      "|    IB14418| 40|FEMALE|          TEACHER|       MARRIED|          6| 77627|       null|            8|        TRAVELLING|    800,400|      1|       19990|               4|                 0|\n",
      "|    IB14461| 54|FEMALE|  AIRPORT OFFICER|       MARRIED|          6| 50000|       null|            5|COMPUTER SOFTWARES|    754,507|      8|       37106|               7|                 9|\n",
      "|    IB14491| 24|  MALE|          TEACHER|        SINGLE|          2| 77923|       null|            5|        TRAVELLING|    625,226|      5|       34121|               2|                 8|\n",
      "|    IB14537| 32|FEMALE|            NURSE|       MARRIED|          5| 46841|       null|            4|       ELECTRONICS|    736,842|      3|       79728|               9|                 3|\n",
      "|    IB14718| 47|  MALE|           DOCTOR|        SINGLE|          4| 77580|       null|            3|          SHOPPING|    339,171|      9|       84824|               8|                 9|\n",
      "|    IB15027| 47|  MALE|           DOCTOR|        SINGLE|          4| 79580|       null|            3|          SHOPPING|    339,171|      9|       84824|               8|                 9|\n",
      "|    IB15045| 34|  MALE|           POLICE|        SINGLE|          4| 45521|       null|            3|        AUTOMOBILE|  2,00,000 |      2|      43,898|               1|                 2|\n",
      "+-----------+---+------+-----------------+--------------+-----------+------+-----------+-------------+------------------+-----------+-------+------------+----------------+------------------+\n",
      "\n"
     ]
    }
   ],
   "source": [
    "loan.where(col('Expenditure').isNull()).show()"
   ]
  },
  {
   "cell_type": "code",
   "execution_count": 35,
   "id": "27823aec",
   "metadata": {},
   "outputs": [],
   "source": [
    "loan=loan.fillna({'Expenditure':27533})"
   ]
  },
  {
   "cell_type": "code",
   "execution_count": 36,
   "id": "ccb4d8c3",
   "metadata": {},
   "outputs": [
    {
     "name": "stdout",
     "output_type": "stream",
     "text": [
      "+----------------+\n",
      "|avg(Expenditure)|\n",
      "+----------------+\n",
      "|       27533.174|\n",
      "+----------------+\n",
      "\n"
     ]
    }
   ],
   "source": [
    "loan.select(avg('Expenditure')).show()"
   ]
  },
  {
   "cell_type": "code",
   "execution_count": 37,
   "id": "c763d88a",
   "metadata": {},
   "outputs": [
    {
     "name": "stdout",
     "output_type": "stream",
     "text": [
      "+-----------+---+------+----------+--------------+-----------+------+-----------+-------------+-------------+-----------+-------+------------+----------------+------------------+\n",
      "|Customer_ID|Age|Gender|Occupation|Marital Status|Family Size|Income|Expenditure|Use Frequency|Loan Category|Loan Amount|Overdue| Debt Record| Returned Cheque| Dishonour of Bill|\n",
      "+-----------+---+------+----------+--------------+-----------+------+-----------+-------------+-------------+-----------+-------+------------+----------------+------------------+\n",
      "+-----------+---+------+----------+--------------+-----------+------+-----------+-------------+-------------+-----------+-------+------------+----------------+------------------+\n",
      "\n"
     ]
    }
   ],
   "source": [
    "loan.where(col('Expenditure').isNull()).show()"
   ]
  },
  {
   "cell_type": "code",
   "execution_count": 50,
   "id": "cd103c48",
   "metadata": {},
   "outputs": [
    {
     "name": "stdout",
     "output_type": "stream",
     "text": [
      "+-----------------------------------------------------------+-------------------------------------------+-------------------------------------------------+---------------------------------------------------------+-----------------------------------------------------------------+-----------------------------------------------------------+-------------------------------------------------+-----------------------------------------------------------+---------------------------------------------------------------+---------------------------------------------------------------+-----------------------------------------------------------+---------------------------------------------------+-------------------------------------------------------------+---------------------------------------------------------------------+-------------------------------------------------------------------------+\n",
      "|count(CASE WHEN (Customer_ID IS NULL) THEN Customer_ID END)|count(CASE WHEN (Age IS NULL) THEN Age END)|count(CASE WHEN (Gender IS NULL) THEN Gender END)|count(CASE WHEN (Occupation IS NULL) THEN Occupation END)|count(CASE WHEN (Marital Status IS NULL) THEN Marital Status END)|count(CASE WHEN (Family Size IS NULL) THEN Family Size END)|count(CASE WHEN (Income IS NULL) THEN Income END)|count(CASE WHEN (Expenditure IS NULL) THEN Expenditure END)|count(CASE WHEN (Use Frequency IS NULL) THEN Use Frequency END)|count(CASE WHEN (Loan Category IS NULL) THEN Loan Category END)|count(CASE WHEN (Loan Amount IS NULL) THEN Loan Amount END)|count(CASE WHEN (Overdue IS NULL) THEN Overdue END)|count(CASE WHEN ( Debt Record IS NULL) THEN  Debt Record END)|count(CASE WHEN ( Returned Cheque IS NULL) THEN  Returned Cheque END)|count(CASE WHEN ( Dishonour of Bill IS NULL) THEN  Dishonour of Bill END)|\n",
      "+-----------------------------------------------------------+-------------------------------------------+-------------------------------------------------+---------------------------------------------------------+-----------------------------------------------------------------+-----------------------------------------------------------+-------------------------------------------------+-----------------------------------------------------------+---------------------------------------------------------------+---------------------------------------------------------------+-----------------------------------------------------------+---------------------------------------------------+-------------------------------------------------------------+---------------------------------------------------------------------+-------------------------------------------------------------------------+\n",
      "|                                                          0|                                          0|                                                0|                                                        0|                                                                0|                                                          0|                                                0|                                                          0|                                                              0|                                                              0|                                                          0|                                                  0|                                                            0|                                                                    0|                                                                        0|\n",
      "+-----------------------------------------------------------+-------------------------------------------+-------------------------------------------------+---------------------------------------------------------+-----------------------------------------------------------------+-----------------------------------------------------------+-------------------------------------------------+-----------------------------------------------------------+---------------------------------------------------------------+---------------------------------------------------------------+-----------------------------------------------------------+---------------------------------------------------+-------------------------------------------------------------+---------------------------------------------------------------------+-------------------------------------------------------------------------+\n",
      "\n"
     ]
    }
   ],
   "source": [
    "loan.select([count(when(col(i).isNull(),i)) for i in loan.columns]).show()"
   ]
  },
  {
   "cell_type": "code",
   "execution_count": null,
   "id": "19923911",
   "metadata": {},
   "outputs": [],
   "source": []
  },
  {
   "cell_type": "code",
   "execution_count": 72,
   "id": "ee3fc6ba",
   "metadata": {},
   "outputs": [
    {
     "name": "stdout",
     "output_type": "stream",
     "text": [
      "+------------------+-----+\n",
      "|     Loan Category|count|\n",
      "+------------------+-----+\n",
      "|       BOOK STORES|    7|\n",
      "|          BUILDING|    7|\n",
      "|       AGRICULTURE|   12|\n",
      "|           DINNING|   14|\n",
      "|       ELECTRONICS|   14|\n",
      "|   HOME APPLIANCES|   14|\n",
      "|  EDUCATIONAL LOAN|   20|\n",
      "|        RESTAURANT|   20|\n",
      "|          BUSINESS|   24|\n",
      "|COMPUTER SOFTWARES|   35|\n",
      "|          SHOPPING|   35|\n",
      "|       RESTAURANTS|   41|\n",
      "|        TRAVELLING|   53|\n",
      "|        AUTOMOBILE|   60|\n",
      "|           HOUSING|   67|\n",
      "|         GOLD LOAN|   77|\n",
      "+------------------+-----+\n",
      "\n"
     ]
    }
   ],
   "source": [
    "# a. Number of loans in each category\n",
    "\n",
    "loan.groupBy('Loan Category').count().orderBy('Count').show()"
   ]
  },
  {
   "cell_type": "code",
   "execution_count": 82,
   "id": "caf90491",
   "metadata": {},
   "outputs": [
    {
     "data": {
      "text/plain": [
       "379"
      ]
     },
     "execution_count": 82,
     "metadata": {},
     "output_type": "execute_result"
    }
   ],
   "source": [
    "# b. Number of people who have taken more than 1 lakh loan\n",
    "\n",
    "loan.where(col('Loan Amount')>'1,00,000').count()"
   ]
  },
  {
   "cell_type": "code",
   "execution_count": 95,
   "id": "76bf74e2",
   "metadata": {},
   "outputs": [
    {
     "data": {
      "text/plain": [
       "379"
      ]
     },
     "execution_count": 95,
     "metadata": {},
     "output_type": "execute_result"
    }
   ],
   "source": [
    "loan.filter(col('Loan Amount')>'1,00,000').count()"
   ]
  },
  {
   "cell_type": "code",
   "execution_count": 96,
   "id": "cb3d09f1",
   "metadata": {},
   "outputs": [
    {
     "data": {
      "text/plain": [
       "230"
      ]
     },
     "execution_count": 96,
     "metadata": {},
     "output_type": "execute_result"
    }
   ],
   "source": [
    "# c. Number of people with income greater than 60000 rupees\n",
    "\n",
    "loan.where(col('Income')>60000).count()"
   ]
  },
  {
   "cell_type": "code",
   "execution_count": 73,
   "id": "4c60ece3",
   "metadata": {},
   "outputs": [
    {
     "data": {
      "text/plain": [
       "137"
      ]
     },
     "execution_count": 73,
     "metadata": {},
     "output_type": "execute_result"
    }
   ],
   "source": [
    "# d. Number of people with 2 or more returned cheques and income less than 50000\n",
    "\n",
    "loan.where((col('Income')<50000) & (col(' Returned Cheque')>=2)).count()"
   ]
  },
  {
   "cell_type": "code",
   "execution_count": 79,
   "id": "e2be3ed1",
   "metadata": {},
   "outputs": [
    {
     "data": {
      "text/plain": [
       "111"
      ]
     },
     "execution_count": 79,
     "metadata": {},
     "output_type": "execute_result"
    }
   ],
   "source": [
    "# e. Number of people with 2 or more returned cheques and are single\n",
    "\n",
    "loan.where((col(' Returned Cheque')>=2) & (col('Marital Status')=='SINGLE')).count()"
   ]
  },
  {
   "cell_type": "code",
   "execution_count": 80,
   "id": "c609e807",
   "metadata": {},
   "outputs": [
    {
     "data": {
      "text/plain": [
       "6"
      ]
     },
     "execution_count": 80,
     "metadata": {},
     "output_type": "execute_result"
    }
   ],
   "source": [
    "# f. Number of people with expenditure over 50000 a month\n",
    "\n",
    "loan.where(col('Expenditure') > 50000).count()"
   ]
  },
  {
   "cell_type": "code",
   "execution_count": 90,
   "id": "b5c25150",
   "metadata": {},
   "outputs": [
    {
     "name": "stdout",
     "output_type": "stream",
     "text": [
      "+----------------+\n",
      "| Returned Cheque|\n",
      "+----------------+\n",
      "|               6|\n",
      "|               1|\n",
      "|               3|\n",
      "|               0|\n",
      "|               1|\n",
      "|               0|\n",
      "|               6|\n",
      "|               2|\n",
      "|               4|\n",
      "|               5|\n",
      "|               1|\n",
      "|               5|\n",
      "|               7|\n",
      "|               8|\n",
      "|               9|\n",
      "|               1|\n",
      "|               0|\n",
      "|               7|\n",
      "|               4|\n",
      "|               9|\n",
      "+----------------+\n",
      "only showing top 20 rows\n",
      "\n"
     ]
    }
   ],
   "source": [
    "loan.select(col(' Returned Cheque')).alias(' Returned Cheque'.lstrip()).show()"
   ]
  },
  {
   "cell_type": "code",
   "execution_count": 94,
   "id": "c772ebb9",
   "metadata": {},
   "outputs": [
    {
     "name": "stdout",
     "output_type": "stream",
     "text": [
      "+-----------+---+------+-------------------+--------------+-----------+------+-----------+-------------+------------------+-----------+-------+------------+---------------+------------------+\n",
      "|Customer_ID|Age|Gender|         Occupation|Marital Status|Family Size|Income|Expenditure|Use Frequency|     Loan Category|Loan Amount|Overdue| Debt Record|Returned Cheque| Dishonour of Bill|\n",
      "+-----------+---+------+-------------------+--------------+-----------+------+-----------+-------------+------------------+-----------+-------+------------+---------------+------------------+\n",
      "|    IB14001| 30|  MALE|       BANK MANAGER|        SINGLE|          4| 50000|      22199|            6|           HOUSING| 10,00,000 |      5|      42,898|              6|                 9|\n",
      "|    IB14008| 44|  MALE|          PROFESSOR|       MARRIED|          6| 51000|      19999|            4|          SHOPPING|     50,000|      3|      33,999|              1|                 5|\n",
      "|    IB14012| 30|FEMALE|            DENTIST|        SINGLE|          3| 58450|      27675|            5|        TRAVELLING|     75,000|      6|      20,876|              3|                 1|\n",
      "|    IB14018| 29|  MALE|            TEACHER|       MARRIED|          5| 45767|      12787|            3|         GOLD LOAN|  6,00,000 |      7|      11,000|              0|                 4|\n",
      "|    IB14022| 34|  MALE|             POLICE|        SINGLE|          4| 43521|      11999|            3|        AUTOMOBILE|  2,00,000 |      2|      43,898|              1|                 2|\n",
      "|    IB14024| 55|FEMALE|              NURSE|       MARRIED|          6| 34999|      19888|            4|        AUTOMOBILE|     47,787|      1|      50,000|              0|                 3|\n",
      "|    IB14025| 39|FEMALE|            TEACHER|       MARRIED|          6| 46619|      18675|            4|           HOUSING| 12,09,867 |      8|      29,999|              6|                 8|\n",
      "|    IB14027| 51|  MALE|     SYSTEM MANAGER|       MARRIED|          3| 49999|      19111|            5|       RESTAURANTS|     60,676|      8|      13,000|              2|                 5|\n",
      "|    IB14029| 24|FEMALE|            TEACHER|        SINGLE|          3| 45008|      17454|            4|        AUTOMOBILE|  3,99,435 |      9|      51,987|              4|                 7|\n",
      "|    IB14031| 37|FEMALE|  SOFTWARE ENGINEER|       MARRIED|          5| 55999|      23999|            5|        AUTOMOBILE|     60,999|      2|           0|              5|                 3|\n",
      "|    IB14032| 24|  MALE|       DATA ANALYST|        SINGLE|          4| 60111|      28999|            6|        AUTOMOBILE|     35,232|      5|      33,333|              1|                 2|\n",
      "|    IB14034| 32|  MALE|   PRODUCT ENGINEER|       MARRIED|          6| 68339|      29000|            7|COMPUTER SOFTWARES|     80,660|      6|       4,500|              5|                 4|\n",
      "|    IB14037| 54|FEMALE|            TEACHER|       MARRIED|          5| 48099|      19999|            4|       RESTAURANTS|     30,999|      1|      12,000|              7|                 5|\n",
      "|    IB14039| 45|  MALE|    ACCOUNT MANAGER|       MARRIED|          7| 45777|      18452|            4|         GOLD LOAN|  9,87,611 |      7|      39,999|              8|                 1|\n",
      "|    IB14041| 59|FEMALE|ASSISTANT PROFESSOR|       MARRIED|          4| 50999|      22999|            5|  EDUCATIONAL LOAN|  5,99,934 |      3|       9,000|              9|                 9|\n",
      "|    IB14042| 25|FEMALE|             DOCTOR|        SINGLE|          4| 60111|      27111|            5|        TRAVELLING| 12,90,929 |      4|      18,000|              1|                 0|\n",
      "|    IB14045| 31|  MALE|       STORE KEEPER|        SINGLE|          5| 40999|      11999|            3|       BOOK STORES|  1,67,654 |      1|       4,500|              0|                 1|\n",
      "|    IB14049| 49|  MALE|       BANK MANAGER|       MARRIED|          4| 45999|      14500|            4|        TRAVELLING|     79,999|      4|       6,700|              7|                 3|\n",
      "|    IB14050| 56|  MALE|     CIVIL ENGINEER|       MARRIED|          4| 68339|      13999|            3|           HOUSING| 10,65,577 |      6|      19,999|              4|                 2|\n",
      "|    IB14054| 58|FEMALE|             DOCTOR|       MARRIED|          5| 60000|      25000|            5|           HOUSING|  9,00,000 |      5|      21,000|              9|                 0|\n",
      "+-----------+---+------+-------------------+--------------+-----------+------+-----------+-------------+------------------+-----------+-------+------------+---------------+------------------+\n",
      "only showing top 20 rows\n",
      "\n"
     ]
    }
   ],
   "source": [
    "loan.withColumnRenamed(' Returned Cheque','Returned Cheque').show()"
   ]
  },
  {
   "cell_type": "code",
   "execution_count": 112,
   "id": "d61cd686",
   "metadata": {},
   "outputs": [
    {
     "name": "stdout",
     "output_type": "stream",
     "text": [
      "Column<'trim(Customer_ID)'>\n",
      "Column<'trim(Age)'>\n",
      "Column<'trim(Gender)'>\n",
      "Column<'trim(Occupation)'>\n",
      "Column<'trim(Marital Status)'>\n",
      "Column<'trim(Family Size)'>\n",
      "Column<'trim(Income)'>\n",
      "Column<'trim(Expenditure)'>\n",
      "Column<'trim(Use Frequency)'>\n",
      "Column<'trim(Loan Category)'>\n",
      "Column<'trim(Loan Amount)'>\n",
      "Column<'trim(Overdue)'>\n",
      "Column<'trim( Debt Record)'>\n",
      "Column<'trim( Returned Cheque)'>\n",
      "Column<'trim( Dishonour of Bill)'>\n"
     ]
    }
   ],
   "source": [
    "for i in loan.columns:\n",
    "    print(trim(col(i)))"
   ]
  },
  {
   "cell_type": "code",
   "execution_count": null,
   "id": "ae63b2a1",
   "metadata": {},
   "outputs": [],
   "source": []
  },
  {
   "cell_type": "code",
   "execution_count": 117,
   "id": "c68fde5b",
   "metadata": {},
   "outputs": [
    {
     "name": "stdout",
     "output_type": "stream",
     "text": [
      "Sagar\n",
      "Column<'trim( Sagar)'>\n"
     ]
    }
   ],
   "source": [
    "a='Sagar'\n",
    "b=' Sagar'\n",
    "print(a)\n",
    "c=trim(b)\n",
    "print(c)"
   ]
  },
  {
   "cell_type": "markdown",
   "id": "a5572ffb",
   "metadata": {},
   "source": [
    "# Credit Card"
   ]
  },
  {
   "cell_type": "code",
   "execution_count": 100,
   "id": "2d977e6a",
   "metadata": {},
   "outputs": [],
   "source": [
    "credit = spark.read.option('header',True).option('inferSchema',True).csv('/Users/sagardapurkar/Desktop/Data Engineering/PySpark/PySpark Final Practise/BankTransactionDataset/Credit_Card.csv')"
   ]
  },
  {
   "cell_type": "code",
   "execution_count": 102,
   "id": "7fe8c9e6",
   "metadata": {},
   "outputs": [
    {
     "name": "stdout",
     "output_type": "stream",
     "text": [
      "+---------+----------+--------+-----------+---------+------+---+------+---------+-------------+--------------+---------------+------+\n",
      "|RowNumber|CustomerId| Surname|CreditScore|Geography|Gender|Age|Tenure|  Balance|NumOfProducts|IsActiveMember|EstimatedSalary|Exited|\n",
      "+---------+----------+--------+-----------+---------+------+---+------+---------+-------------+--------------+---------------+------+\n",
      "|        1|  15634602|Hargrave|        619|   France|Female| 42|     2|      0.0|            1|             1|      101348.88|     1|\n",
      "|        2|  15647311|    Hill|        608|    Spain|Female| 41|     1| 83807.86|            1|             1|      112542.58|     0|\n",
      "|        3|  15619304|    Onio|        502|   France|Female| 42|     8| 159660.8|            3|             0|      113931.57|     1|\n",
      "|        4|  15701354|    Boni|        699|   France|Female| 39|     1|      0.0|            2|             0|       93826.63|     0|\n",
      "|        5|  15737888|Mitchell|        850|    Spain|Female| 43|     2|125510.82|            1|             1|        79084.1|     0|\n",
      "+---------+----------+--------+-----------+---------+------+---+------+---------+-------------+--------------+---------------+------+\n",
      "only showing top 5 rows\n",
      "\n"
     ]
    }
   ],
   "source": [
    "credit.show(5)"
   ]
  },
  {
   "cell_type": "code",
   "execution_count": 104,
   "id": "d1fac1f8",
   "metadata": {},
   "outputs": [
    {
     "name": "stdout",
     "output_type": "stream",
     "text": [
      "+-------------------------------------------------------+---------------------------------------------------------+---------------------------------------------------+-----------------------------------------------------------+-------------------------------------------------------+-------------------------------------------------+-------------------------------------------+-------------------------------------------------+---------------------------------------------------+---------------------------------------------------------------+-----------------------------------------------------------------+-------------------------------------------------------------------+-------------------------------------------------+\n",
      "|count(CASE WHEN (RowNumber IS NULL) THEN RowNumber END)|count(CASE WHEN (CustomerId IS NULL) THEN CustomerId END)|count(CASE WHEN (Surname IS NULL) THEN Surname END)|count(CASE WHEN (CreditScore IS NULL) THEN CreditScore END)|count(CASE WHEN (Geography IS NULL) THEN Geography END)|count(CASE WHEN (Gender IS NULL) THEN Gender END)|count(CASE WHEN (Age IS NULL) THEN Age END)|count(CASE WHEN (Tenure IS NULL) THEN Tenure END)|count(CASE WHEN (Balance IS NULL) THEN Balance END)|count(CASE WHEN (NumOfProducts IS NULL) THEN NumOfProducts END)|count(CASE WHEN (IsActiveMember IS NULL) THEN IsActiveMember END)|count(CASE WHEN (EstimatedSalary IS NULL) THEN EstimatedSalary END)|count(CASE WHEN (Exited IS NULL) THEN Exited END)|\n",
      "+-------------------------------------------------------+---------------------------------------------------------+---------------------------------------------------+-----------------------------------------------------------+-------------------------------------------------------+-------------------------------------------------+-------------------------------------------+-------------------------------------------------+---------------------------------------------------+---------------------------------------------------------------+-----------------------------------------------------------------+-------------------------------------------------------------------+-------------------------------------------------+\n",
      "|                                                      0|                                                        0|                                                  0|                                                          0|                                                      0|                                                0|                                          0|                                                0|                                                  0|                                                              0|                                                                0|                                                                  0|                                                0|\n",
      "+-------------------------------------------------------+---------------------------------------------------------+---------------------------------------------------+-----------------------------------------------------------+-------------------------------------------------------+-------------------------------------------------+-------------------------------------------+-------------------------------------------------+---------------------------------------------------+---------------------------------------------------------------+-----------------------------------------------------------------+-------------------------------------------------------------------+-------------------------------------------------+\n",
      "\n"
     ]
    }
   ],
   "source": [
    "credit.select([count(when(col(i).isNull(),i)) for i in credit.columns]).show()"
   ]
  },
  {
   "cell_type": "code",
   "execution_count": 157,
   "id": "ade63c04",
   "metadata": {},
   "outputs": [
    {
     "name": "stdout",
     "output_type": "stream",
     "text": [
      "root\n",
      " |-- RowNumber: integer (nullable = true)\n",
      " |-- CustomerId: integer (nullable = true)\n",
      " |-- Surname: string (nullable = true)\n",
      " |-- CreditScore: integer (nullable = true)\n",
      " |-- Geography: string (nullable = true)\n",
      " |-- Gender: string (nullable = true)\n",
      " |-- Age: integer (nullable = true)\n",
      " |-- Tenure: integer (nullable = true)\n",
      " |-- Balance: double (nullable = true)\n",
      " |-- NumOfProducts: integer (nullable = true)\n",
      " |-- IsActiveMember: integer (nullable = true)\n",
      " |-- EstimatedSalary: double (nullable = true)\n",
      " |-- Exited: integer (nullable = true)\n",
      "\n"
     ]
    }
   ],
   "source": [
    "credit.printSchema()"
   ]
  },
  {
   "cell_type": "code",
   "execution_count": 105,
   "id": "11ce8ffe",
   "metadata": {},
   "outputs": [
    {
     "data": {
      "text/plain": [
       "3116"
      ]
     },
     "execution_count": 105,
     "metadata": {},
     "output_type": "execute_result"
    }
   ],
   "source": [
    "# a. Number of members who are eligible for credit cards. \n",
    "# [NOTE: People having credit score greater than 700 are eligible]\n",
    "\n",
    "credit.where(col('CreditScore')>700).count()"
   ]
  },
  {
   "cell_type": "code",
   "execution_count": 108,
   "id": "5c41185c",
   "metadata": {},
   "outputs": [
    {
     "data": {
      "text/plain": [
       "1637"
      ]
     },
     "execution_count": 108,
     "metadata": {},
     "output_type": "execute_result"
    }
   ],
   "source": [
    "# b. Number of members who are eligible and active in the bank.\n",
    "\n",
    "credit.where((col('CreditScore')>700) & (col('IsActiveMember')==1)).count()"
   ]
  },
  {
   "cell_type": "code",
   "execution_count": 109,
   "id": "5ac51056",
   "metadata": {},
   "outputs": [
    {
     "data": {
      "text/plain": [
       "2477"
      ]
     },
     "execution_count": 109,
     "metadata": {},
     "output_type": "execute_result"
    }
   ],
   "source": [
    "# c. credit card users in Spain\n",
    "\n",
    "credit.where(col('Geography')=='Spain').count()"
   ]
  },
  {
   "cell_type": "code",
   "execution_count": null,
   "id": "d7a8eb67",
   "metadata": {},
   "outputs": [],
   "source": []
  },
  {
   "cell_type": "markdown",
   "id": "ebb1bb0c",
   "metadata": {},
   "source": [
    "# Transaction"
   ]
  },
  {
   "cell_type": "code",
   "execution_count": 120,
   "id": "45c532ba",
   "metadata": {},
   "outputs": [],
   "source": [
    "transaction = spark.read.option('header',True).option('inferSchema',True).csv('/Users/sagardapurkar/Desktop/Data Engineering/PySpark/PySpark Final Practise/BankTransactionDataset/Transaction.csv')"
   ]
  },
  {
   "cell_type": "code",
   "execution_count": 121,
   "id": "59133b73",
   "metadata": {},
   "outputs": [
    {
     "name": "stdout",
     "output_type": "stream",
     "text": [
      "+-------------+--------------------+----------+----------------+-------------+-----------+\n",
      "|   Account No| TRANSACTION DETAILS|VALUE DATE| WITHDRAWAL AMT | DEPOSIT AMT |BALANCE AMT|\n",
      "+-------------+--------------------+----------+----------------+-------------+-----------+\n",
      "|409000611074'|TRF FROM  Indiafo...| 29-Jun-17|            null|    1000000.0|  1000000.0|\n",
      "|409000611074'|TRF FROM  Indiafo...|  5-Jul-17|            null|    1000000.0|  2000000.0|\n",
      "|409000611074'|FDRL/INTERNAL FUN...| 18-Jul-17|            null|     500000.0|  2500000.0|\n",
      "|409000611074'|TRF FRM  Indiafor...|  1-Aug-17|            null|    3000000.0|  5500000.0|\n",
      "|409000611074'|FDRL/INTERNAL FUN...| 16-Aug-17|            null|     500000.0|  6000000.0|\n",
      "+-------------+--------------------+----------+----------------+-------------+-----------+\n",
      "only showing top 5 rows\n",
      "\n"
     ]
    }
   ],
   "source": [
    "transaction.show(5)"
   ]
  },
  {
   "cell_type": "code",
   "execution_count": 122,
   "id": "c0e3344f",
   "metadata": {},
   "outputs": [
    {
     "name": "stdout",
     "output_type": "stream",
     "text": [
      "+---------------------------------------------------------+---------------------------------------------------------------------------+---------------------------------------------------------+---------------------------------------------------------------------+---------------------------------------------------------------+-----------------------------------------------------------+\n",
      "|count(CASE WHEN (Account No IS NULL) THEN Account No END)|count(CASE WHEN (TRANSACTION DETAILS IS NULL) THEN TRANSACTION DETAILS END)|count(CASE WHEN (VALUE DATE IS NULL) THEN VALUE DATE END)|count(CASE WHEN ( WITHDRAWAL AMT  IS NULL) THEN  WITHDRAWAL AMT  END)|count(CASE WHEN ( DEPOSIT AMT  IS NULL) THEN  DEPOSIT AMT  END)|count(CASE WHEN (BALANCE AMT IS NULL) THEN BALANCE AMT END)|\n",
      "+---------------------------------------------------------+---------------------------------------------------------------------------+---------------------------------------------------------+---------------------------------------------------------------------+---------------------------------------------------------------+-----------------------------------------------------------+\n",
      "|                                                        0|                                                                       2499|                                                        0|                                                                62652|                                                          53549|                                                          0|\n",
      "+---------------------------------------------------------+---------------------------------------------------------------------------+---------------------------------------------------------+---------------------------------------------------------------------+---------------------------------------------------------------+-----------------------------------------------------------+\n",
      "\n"
     ]
    }
   ],
   "source": [
    "transaction.select([count(when(col(i).isNull(),i)) for i in transaction.columns]).show()"
   ]
  },
  {
   "cell_type": "code",
   "execution_count": 156,
   "id": "601c0425",
   "metadata": {},
   "outputs": [
    {
     "name": "stdout",
     "output_type": "stream",
     "text": [
      "root\n",
      " |-- Account No: string (nullable = true)\n",
      " |-- TRANSACTION DETAILS: string (nullable = true)\n",
      " |-- VALUE DATE: string (nullable = true)\n",
      " |--  WITHDRAWAL AMT : double (nullable = true)\n",
      " |--  DEPOSIT AMT : double (nullable = true)\n",
      " |-- BALANCE AMT: double (nullable = true)\n",
      "\n"
     ]
    }
   ],
   "source": [
    "transaction.printSchema()"
   ]
  },
  {
   "cell_type": "code",
   "execution_count": 129,
   "id": "9375b748",
   "metadata": {},
   "outputs": [
    {
     "name": "stdout",
     "output_type": "stream",
     "text": [
      "+-------------+-----+\n",
      "|   Account No|count|\n",
      "+-------------+-----+\n",
      "|409000438611'| 4588|\n",
      "|     1196711'|10536|\n",
      "|     1196428'|48779|\n",
      "|409000493210'| 6014|\n",
      "|409000611074'| 1093|\n",
      "|409000425051'|  802|\n",
      "|409000405747'|   51|\n",
      "|409000493201'| 1044|\n",
      "|409000438620'|13454|\n",
      "|409000362497'|29840|\n",
      "+-------------+-----+\n",
      "\n"
     ]
    }
   ],
   "source": [
    "# a. Count of transaction on every account\n",
    "\n",
    "transaction.groupBy(col('Account No')).count().show()"
   ]
  },
  {
   "cell_type": "code",
   "execution_count": 142,
   "id": "2c711c8b",
   "metadata": {},
   "outputs": [
    {
     "name": "stdout",
     "output_type": "stream",
     "text": [
      "+-------------+---------------------+\n",
      "|   Account No|max( WITHDRAWAL AMT )|\n",
      "+-------------+---------------------+\n",
      "|409000438611'|                2.4E8|\n",
      "|     1196711'|        4.594475464E8|\n",
      "|     1196428'|                1.5E8|\n",
      "|409000493210'|                1.5E7|\n",
      "|409000611074'|             912000.0|\n",
      "|409000425051'|               3.54E8|\n",
      "|409000405747'|                1.7E8|\n",
      "|409000493201'|            2500000.0|\n",
      "|409000438620'|                4.0E8|\n",
      "|409000362497'|        1.413662392E8|\n",
      "+-------------+---------------------+\n",
      "\n"
     ]
    }
   ],
   "source": [
    "# b. Maximum withdrawal amount of each account\n",
    "\n",
    "transaction.groupBy(col('Account No')).max(' WITHDRAWAL AMT ').show()"
   ]
  },
  {
   "cell_type": "code",
   "execution_count": 144,
   "id": "a940a95e",
   "metadata": {},
   "outputs": [
    {
     "name": "stdout",
     "output_type": "stream",
     "text": [
      "+-------------+---------------------+\n",
      "|   Account No|min( WITHDRAWAL AMT )|\n",
      "+-------------+---------------------+\n",
      "|409000438611'|                  0.2|\n",
      "|     1196711'|                 0.25|\n",
      "|     1196428'|                 0.25|\n",
      "|409000493210'|                 0.01|\n",
      "|409000611074'|                120.0|\n",
      "|409000425051'|                 1.25|\n",
      "|409000405747'|                 21.0|\n",
      "|409000493201'|                  2.1|\n",
      "|409000438620'|                 0.34|\n",
      "|409000362497'|                 0.97|\n",
      "+-------------+---------------------+\n",
      "\n"
     ]
    }
   ],
   "source": [
    "# c. Minimum withdrawal amount of each account\n",
    "\n",
    "transaction.groupBy(col('Account No')).min(' WITHDRAWAL AMT ').show()"
   ]
  },
  {
   "cell_type": "code",
   "execution_count": 147,
   "id": "f6ddbc09",
   "metadata": {},
   "outputs": [
    {
     "name": "stdout",
     "output_type": "stream",
     "text": [
      "+-------------+------------------+\n",
      "|   Account No|max( DEPOSIT AMT )|\n",
      "+-------------+------------------+\n",
      "|409000438611'|          1.7025E8|\n",
      "|     1196711'|             5.0E8|\n",
      "|     1196428'|     2.119594422E8|\n",
      "|409000493210'|             1.5E7|\n",
      "|409000611074'|         3000000.0|\n",
      "|409000425051'|             1.5E7|\n",
      "|409000405747'|           2.021E8|\n",
      "|409000493201'|         1000000.0|\n",
      "|409000438620'|           5.448E8|\n",
      "|409000362497'|             2.0E8|\n",
      "+-------------+------------------+\n",
      "\n"
     ]
    }
   ],
   "source": [
    "# d. Maximum deposit amount of each account\n",
    "\n",
    "transaction.groupBy(col('Account No')).max(' DEPOSIT AMT ').show()"
   ]
  },
  {
   "cell_type": "code",
   "execution_count": 148,
   "id": "82c7ea81",
   "metadata": {},
   "outputs": [
    {
     "name": "stdout",
     "output_type": "stream",
     "text": [
      "+-------------+------------------+\n",
      "|   Account No|min( DEPOSIT AMT )|\n",
      "+-------------+------------------+\n",
      "|409000438611'|              0.03|\n",
      "|     1196711'|              1.01|\n",
      "|     1196428'|               1.0|\n",
      "|409000493210'|              0.01|\n",
      "|409000611074'|            1320.0|\n",
      "|409000425051'|               1.0|\n",
      "|409000405747'|             500.0|\n",
      "|409000493201'|               0.9|\n",
      "|409000438620'|              0.07|\n",
      "|409000362497'|              0.03|\n",
      "+-------------+------------------+\n",
      "\n"
     ]
    }
   ],
   "source": [
    "# e. Minimum deposit amount of each account\n",
    "\n",
    "transaction.groupBy(col('Account No')).min(' DEPOSIT AMT ').show()"
   ]
  },
  {
   "cell_type": "code",
   "execution_count": 151,
   "id": "9289f0df",
   "metadata": {},
   "outputs": [
    {
     "name": "stdout",
     "output_type": "stream",
     "text": [
      "+-------------+--------------------+\n",
      "|   Account No|    sum(BALANCE AMT)|\n",
      "+-------------+--------------------+\n",
      "|409000438611'|-2.49486577068339...|\n",
      "|     1196711'|-1.60476498101275E13|\n",
      "|     1196428'| -8.1418498130721E13|\n",
      "|409000493210'|-3.27584952132095...|\n",
      "|409000611074'|       1.615533622E9|\n",
      "|409000425051'|-3.77211841164998...|\n",
      "|409000405747'|-2.43108047067000...|\n",
      "|409000493201'|1.0420831829499985E9|\n",
      "|409000438620'|-7.12291867951358...|\n",
      "|409000362497'| -5.2860004792808E13|\n",
      "+-------------+--------------------+\n",
      "\n"
     ]
    }
   ],
   "source": [
    "# f. Sum of balance in every bank account\n",
    "\n",
    "transaction.groupBy(col('Account No')).sum('BALANCE AMT').show()"
   ]
  },
  {
   "cell_type": "code",
   "execution_count": 153,
   "id": "156f296e",
   "metadata": {},
   "outputs": [
    {
     "name": "stdout",
     "output_type": "stream",
     "text": [
      "+----------+-----+\n",
      "|VALUE DATE|count|\n",
      "+----------+-----+\n",
      "| 23-Dec-16|  143|\n",
      "|  7-Feb-19|   98|\n",
      "| 21-Jul-15|   80|\n",
      "|  9-Sep-15|   91|\n",
      "| 17-Jan-15|   16|\n",
      "| 18-Nov-17|   53|\n",
      "| 21-Feb-18|   77|\n",
      "| 20-Mar-18|   71|\n",
      "| 19-Apr-18|   71|\n",
      "| 21-Jun-16|   97|\n",
      "| 17-Oct-17|  101|\n",
      "|  3-Jan-18|   70|\n",
      "|  8-Jun-18|  223|\n",
      "| 15-Dec-18|   62|\n",
      "|  8-Aug-16|   97|\n",
      "| 17-Dec-16|   74|\n",
      "|  3-Sep-15|   83|\n",
      "| 21-Jan-16|   76|\n",
      "|  4-May-18|   92|\n",
      "|  7-Sep-17|   94|\n",
      "+----------+-----+\n",
      "only showing top 20 rows\n",
      "\n"
     ]
    }
   ],
   "source": [
    "# g. Number of transaction on each date\n",
    "\n",
    "transaction.groupBy(col('VALUE DATE')).count().show()"
   ]
  },
  {
   "cell_type": "code",
   "execution_count": 155,
   "id": "f9da8033",
   "metadata": {},
   "outputs": [
    {
     "name": "stdout",
     "output_type": "stream",
     "text": [
      "+-------------+--------------------+----------+----------------+-------------+-----------+\n",
      "|   Account No| TRANSACTION DETAILS|VALUE DATE| WITHDRAWAL AMT | DEPOSIT AMT |BALANCE AMT|\n",
      "+-------------+--------------------+----------+----------------+-------------+-----------+\n",
      "|409000611074'|INDO GIBL Indiafo...| 16-Aug-17|        133900.0|         null|  8366100.0|\n",
      "|409000611074'|INDO GIBL Indiafo...| 16-Aug-17|        195800.0|         null|  8147300.0|\n",
      "|409000611074'|INDO GIBL Indiafo...| 16-Aug-17|        143800.0|         null|  7781600.0|\n",
      "|409000611074'|INDO GIBL Indiafo...| 16-Aug-17|        331650.0|         null|  7449950.0|\n",
      "|409000611074'|INDO GIBL Indiafo...| 16-Aug-17|        129000.0|         null|  7320950.0|\n",
      "|409000611074'|INDO GIBL Indiafo...| 16-Aug-17|        230013.0|         null|  7090937.0|\n",
      "|409000611074'|INDO GIBL Indiafo...| 16-Aug-17|        367900.0|         null|  6723037.0|\n",
      "|409000611074'|INDO GIBL Indiafo...| 16-Aug-17|        108000.0|         null|  6615037.0|\n",
      "|409000611074'|INDO GIBL Indiafo...| 16-Aug-17|        141000.0|         null|  6409237.0|\n",
      "|409000611074'|INDO GIBL Indiafo...| 16-Aug-17|        206000.0|         null|  5959817.0|\n",
      "|409000611074'|INDO GIBL Indiafo...|  6-Sep-17|        242300.0|         null|  5350718.0|\n",
      "|409000611074'|INDO GIBL Indiafo...|  6-Sep-17|        113250.0|         null|  5147368.0|\n",
      "|409000611074'|INDO GIBL Indiafo...|  6-Sep-17|        206900.0|         null|  4887968.0|\n",
      "|409000611074'|INDO GIBL Indiafo...|  6-Sep-17|        276000.0|         null|  4611968.0|\n",
      "|409000611074'|INDO GIBL Indiafo...|  6-Sep-17|        171000.0|         null|  4440968.0|\n",
      "|409000611074'|INDO GIBL Indiafo...|  6-Sep-17|        189800.0|         null|  4211068.0|\n",
      "|409000611074'|INDO GIBL Indiafo...|  6-Sep-17|        271323.0|         null|  3788545.0|\n",
      "|409000611074'|INDO GIBL Indiafo...|  6-Sep-17|        200600.0|         null|  3587945.0|\n",
      "|409000611074'|INDO GIBL Indiafo...|  6-Sep-17|        176900.0|         null|  3411045.0|\n",
      "|409000611074'|INDO GIBL Indiafo...|  6-Sep-17|        150050.0|         null|  3260995.0|\n",
      "+-------------+--------------------+----------+----------------+-------------+-----------+\n",
      "only showing top 20 rows\n",
      "\n"
     ]
    }
   ],
   "source": [
    "# h. List of customers with withdrawal amount more than 1 lakh\n",
    "\n",
    "transaction.where(col(' WITHDRAWAL AMT ')>100000).show()"
   ]
  },
  {
   "cell_type": "code",
   "execution_count": 171,
   "id": "7f614540",
   "metadata": {},
   "outputs": [],
   "source": [
    "for i in transaction.columns:\n",
    "    tra = transaction.withColumn(i, transaction[i].cast(StringType()))\n",
    "    tra = transaction.withColumn(i, trim(col(i)).alias(i))"
   ]
  },
  {
   "cell_type": "code",
   "execution_count": 174,
   "id": "a114fa85",
   "metadata": {},
   "outputs": [],
   "source": [
    "for column in transaction.columns:\n",
    "    # Check if the column is of string type\n",
    "    if transaction.schema[column].dataType.typeName() == 'string':\n",
    "        tra = transaction.withColumn(column, trim(col(column)))\n",
    "    # If the column is not of string type, convert it to string, apply trim, and convert back\n",
    "    else:\n",
    "        tra = transaction.withColumn(column, trim(col(column).cast(\"string\")).cast(transaction.schema[column].dataType))\n",
    "\n",
    "# Show the DataFrame with leading and trailing spaces removed"
   ]
  },
  {
   "cell_type": "code",
   "execution_count": 175,
   "id": "4862d755",
   "metadata": {
    "scrolled": true
   },
   "outputs": [
    {
     "name": "stdout",
     "output_type": "stream",
     "text": [
      "+-------------+--------------------+----------+----------------+-------------+-----------+\n",
      "|   Account No| TRANSACTION DETAILS|VALUE DATE| WITHDRAWAL AMT | DEPOSIT AMT |BALANCE AMT|\n",
      "+-------------+--------------------+----------+----------------+-------------+-----------+\n",
      "|409000611074'|TRF FROM  Indiafo...| 29-Jun-17|            null|    1000000.0|  1000000.0|\n",
      "|409000611074'|TRF FROM  Indiafo...|  5-Jul-17|            null|    1000000.0|  2000000.0|\n",
      "|409000611074'|FDRL/INTERNAL FUN...| 18-Jul-17|            null|     500000.0|  2500000.0|\n",
      "|409000611074'|TRF FRM  Indiafor...|  1-Aug-17|            null|    3000000.0|  5500000.0|\n",
      "|409000611074'|FDRL/INTERNAL FUN...| 16-Aug-17|            null|     500000.0|  6000000.0|\n",
      "+-------------+--------------------+----------+----------------+-------------+-----------+\n",
      "only showing top 5 rows\n",
      "\n"
     ]
    }
   ],
   "source": [
    "tra.show(5)"
   ]
  },
  {
   "cell_type": "code",
   "execution_count": 177,
   "id": "ad3e8aba",
   "metadata": {},
   "outputs": [
    {
     "name": "stdout",
     "output_type": "stream",
     "text": [
      "Account No\n",
      "TRANSACTION DETAILS\n",
      "VALUE DATE\n",
      " WITHDRAWAL AMT \n",
      " DEPOSIT AMT \n",
      "BALANCE AMT\n"
     ]
    }
   ],
   "source": [
    "for i in tra.columns:\n",
    "    print(i)"
   ]
  },
  {
   "cell_type": "code",
   "execution_count": null,
   "id": "ca8d2b28",
   "metadata": {},
   "outputs": [],
   "source": []
  }
 ],
 "metadata": {
  "kernelspec": {
   "display_name": "Python 3 (ipykernel)",
   "language": "python",
   "name": "python3"
  },
  "language_info": {
   "codemirror_mode": {
    "name": "ipython",
    "version": 3
   },
   "file_extension": ".py",
   "mimetype": "text/x-python",
   "name": "python",
   "nbconvert_exporter": "python",
   "pygments_lexer": "ipython3",
   "version": "3.10.9"
  }
 },
 "nbformat": 4,
 "nbformat_minor": 5
}
